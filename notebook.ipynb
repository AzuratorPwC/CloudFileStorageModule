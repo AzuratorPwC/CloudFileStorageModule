{
 "cells": [
  {
   "cell_type": "code",
   "execution_count": 6,
   "metadata": {},
   "outputs": [],
   "source": [
    "from src.cloud_storage_pwc import azure_storage"
   ]
  },
  {
   "cell_type": "code",
   "execution_count": 7,
   "metadata": {},
   "outputs": [],
   "source": [
    "import logging\n",
    "logging.basicConfig(level=logging.DEBUG)\n",
    "logging.debug('This will get logged')\n",
    "aa=azure_storage(\"http://127.0.0.1:10000/devstoreaccount12\",\"Eby8vdM02xNOcqFlqUwJPLlmEtlCDXJ1OUzFT50uSRZ6IFsuFq2UVErCz4I6tq/K1SZFPTOtr/KBHBeksoGMGw==\")"
   ]
  },
  {
   "cell_type": "markdown",
   "metadata": {},
   "source": [
    "### DEMO"
   ]
  },
  {
   "cell_type": "code",
   "execution_count": 14,
   "metadata": {},
   "outputs": [
    {
     "ename": "ResourceNotFoundError",
     "evalue": "The specified resource does not exist.\nRequestId:fe2b1511-6ffb-40ce-b9e1-d7cd54f289d5\nTime:2024-02-06T12:45:56.084Z\nErrorCode:ResourceNotFound\nContent: <?xml version=\"1.0\" encoding=\"UTF-8\" standalone=\"yes\"?>\n<Error>\n  <Code>ResourceNotFound</Code>\n  <Message>The specified resource does not exist.\nRequestId:fe2b1511-6ffb-40ce-b9e1-d7cd54f289d5\nTime:2024-02-06T12:45:56.084Z</Message>\n</Error>",
     "output_type": "error",
     "traceback": [
      "\u001b[0;31m---------------------------------------------------------------------------\u001b[0m",
      "\u001b[0;31mResourceNotFoundError\u001b[0m                     Traceback (most recent call last)",
      "Cell \u001b[0;32mIn[14], line 1\u001b[0m\n\u001b[0;32m----> 1\u001b[0m aa\u001b[39m.\u001b[39;49mcreate_container(\u001b[39m\"\u001b[39;49m\u001b[39mtest22\u001b[39;49m\u001b[39m\"\u001b[39;49m)\n",
      "File \u001b[0;32m/workspaces/CloudFileStorageModule/src/cloud_storage_pwc/AzureStorage/Blob/__init__.py:507\u001b[0m, in \u001b[0;36mBlob.create_container\u001b[0;34m(self, container_name, public_access)\u001b[0m\n\u001b[1;32m    505\u001b[0m container_client \u001b[39m=\u001b[39m \u001b[39mself\u001b[39m\u001b[39m.\u001b[39m__service_client\u001b[39m.\u001b[39mget_container_client(container\u001b[39m=\u001b[39mcontainer_name)   \n\u001b[1;32m    506\u001b[0m \u001b[39mif\u001b[39;00m \u001b[39mnot\u001b[39;00m container_client\u001b[39m.\u001b[39mexists():\n\u001b[0;32m--> 507\u001b[0m     \u001b[39mself\u001b[39;49m\u001b[39m.\u001b[39;49m__service_client\u001b[39m.\u001b[39;49mcreate_container(name\u001b[39m=\u001b[39;49mcontainer_name,public_access\u001b[39m=\u001b[39;49mpublic_access)\n",
      "File \u001b[0;32m~/.local/lib/python3.9/site-packages/azure/core/tracing/decorator.py:78\u001b[0m, in \u001b[0;36mdistributed_trace.<locals>.decorator.<locals>.wrapper_use_tracer\u001b[0;34m(*args, **kwargs)\u001b[0m\n\u001b[1;32m     76\u001b[0m span_impl_type \u001b[39m=\u001b[39m settings\u001b[39m.\u001b[39mtracing_implementation()\n\u001b[1;32m     77\u001b[0m \u001b[39mif\u001b[39;00m span_impl_type \u001b[39mis\u001b[39;00m \u001b[39mNone\u001b[39;00m:\n\u001b[0;32m---> 78\u001b[0m     \u001b[39mreturn\u001b[39;00m func(\u001b[39m*\u001b[39;49margs, \u001b[39m*\u001b[39;49m\u001b[39m*\u001b[39;49mkwargs)\n\u001b[1;32m     80\u001b[0m \u001b[39m# Merge span is parameter is set, but only if no explicit parent are passed\u001b[39;00m\n\u001b[1;32m     81\u001b[0m \u001b[39mif\u001b[39;00m merge_span \u001b[39mand\u001b[39;00m \u001b[39mnot\u001b[39;00m passed_in_parent:\n",
      "File \u001b[0;32m~/.local/lib/python3.9/site-packages/azure/storage/blob/_blob_service_client.py:568\u001b[0m, in \u001b[0;36mBlobServiceClient.create_container\u001b[0;34m(self, name, metadata, public_access, **kwargs)\u001b[0m\n\u001b[1;32m    566\u001b[0m kwargs\u001b[39m.\u001b[39msetdefault(\u001b[39m'\u001b[39m\u001b[39mmerge_span\u001b[39m\u001b[39m'\u001b[39m, \u001b[39mTrue\u001b[39;00m)\n\u001b[1;32m    567\u001b[0m timeout \u001b[39m=\u001b[39m kwargs\u001b[39m.\u001b[39mpop(\u001b[39m'\u001b[39m\u001b[39mtimeout\u001b[39m\u001b[39m'\u001b[39m, \u001b[39mNone\u001b[39;00m)\n\u001b[0;32m--> 568\u001b[0m container\u001b[39m.\u001b[39;49mcreate_container(\n\u001b[1;32m    569\u001b[0m     metadata\u001b[39m=\u001b[39;49mmetadata, public_access\u001b[39m=\u001b[39;49mpublic_access, timeout\u001b[39m=\u001b[39;49mtimeout, \u001b[39m*\u001b[39;49m\u001b[39m*\u001b[39;49mkwargs)\n\u001b[1;32m    570\u001b[0m \u001b[39mreturn\u001b[39;00m container\n",
      "File \u001b[0;32m~/.local/lib/python3.9/site-packages/azure/core/tracing/decorator.py:78\u001b[0m, in \u001b[0;36mdistributed_trace.<locals>.decorator.<locals>.wrapper_use_tracer\u001b[0;34m(*args, **kwargs)\u001b[0m\n\u001b[1;32m     76\u001b[0m span_impl_type \u001b[39m=\u001b[39m settings\u001b[39m.\u001b[39mtracing_implementation()\n\u001b[1;32m     77\u001b[0m \u001b[39mif\u001b[39;00m span_impl_type \u001b[39mis\u001b[39;00m \u001b[39mNone\u001b[39;00m:\n\u001b[0;32m---> 78\u001b[0m     \u001b[39mreturn\u001b[39;00m func(\u001b[39m*\u001b[39;49margs, \u001b[39m*\u001b[39;49m\u001b[39m*\u001b[39;49mkwargs)\n\u001b[1;32m     80\u001b[0m \u001b[39m# Merge span is parameter is set, but only if no explicit parent are passed\u001b[39;00m\n\u001b[1;32m     81\u001b[0m \u001b[39mif\u001b[39;00m merge_span \u001b[39mand\u001b[39;00m \u001b[39mnot\u001b[39;00m passed_in_parent:\n",
      "File \u001b[0;32m~/.local/lib/python3.9/site-packages/azure/storage/blob/_container_client.py:327\u001b[0m, in \u001b[0;36mContainerClient.create_container\u001b[0;34m(self, metadata, public_access, **kwargs)\u001b[0m\n\u001b[1;32m    319\u001b[0m     \u001b[39mreturn\u001b[39;00m \u001b[39mself\u001b[39m\u001b[39m.\u001b[39m_client\u001b[39m.\u001b[39mcontainer\u001b[39m.\u001b[39mcreate( \u001b[39m# type: ignore\u001b[39;00m\n\u001b[1;32m    320\u001b[0m         timeout\u001b[39m=\u001b[39mtimeout,\n\u001b[1;32m    321\u001b[0m         access\u001b[39m=\u001b[39mpublic_access,\n\u001b[0;32m   (...)\u001b[0m\n\u001b[1;32m    324\u001b[0m         headers\u001b[39m=\u001b[39mheaders,\n\u001b[1;32m    325\u001b[0m         \u001b[39m*\u001b[39m\u001b[39m*\u001b[39mkwargs)\n\u001b[1;32m    326\u001b[0m \u001b[39mexcept\u001b[39;00m HttpResponseError \u001b[39mas\u001b[39;00m error:\n\u001b[0;32m--> 327\u001b[0m     process_storage_error(error)\n",
      "File \u001b[0;32m~/.local/lib/python3.9/site-packages/azure/storage/blob/_shared/response_handlers.py:184\u001b[0m, in \u001b[0;36mprocess_storage_error\u001b[0;34m(storage_error)\u001b[0m\n\u001b[1;32m    181\u001b[0m error\u001b[39m.\u001b[39margs \u001b[39m=\u001b[39m (error\u001b[39m.\u001b[39mmessage,)\n\u001b[1;32m    182\u001b[0m \u001b[39mtry\u001b[39;00m:\n\u001b[1;32m    183\u001b[0m     \u001b[39m# `from None` prevents us from double printing the exception (suppresses generated layer error context)\u001b[39;00m\n\u001b[0;32m--> 184\u001b[0m     exec(\u001b[39m\"\u001b[39;49m\u001b[39mraise error from None\u001b[39;49m\u001b[39m\"\u001b[39;49m)   \u001b[39m# pylint: disable=exec-used # nosec\u001b[39;00m\n\u001b[1;32m    185\u001b[0m \u001b[39mexcept\u001b[39;00m \u001b[39mSyntaxError\u001b[39;00m \u001b[39mas\u001b[39;00m exc:\n\u001b[1;32m    186\u001b[0m     \u001b[39mraise\u001b[39;00m error \u001b[39mfrom\u001b[39;00m \u001b[39mexc\u001b[39;00m\n",
      "File \u001b[0;32m<string>:1\u001b[0m\n",
      "File \u001b[0;32m~/.local/lib/python3.9/site-packages/azure/storage/blob/_container_client.py:319\u001b[0m, in \u001b[0;36mContainerClient.create_container\u001b[0;34m(self, metadata, public_access, **kwargs)\u001b[0m\n\u001b[1;32m    317\u001b[0m container_cpk_scope_info \u001b[39m=\u001b[39m get_container_cpk_scope_info(kwargs)\n\u001b[1;32m    318\u001b[0m \u001b[39mtry\u001b[39;00m:\n\u001b[0;32m--> 319\u001b[0m     \u001b[39mreturn\u001b[39;00m \u001b[39mself\u001b[39;49m\u001b[39m.\u001b[39;49m_client\u001b[39m.\u001b[39;49mcontainer\u001b[39m.\u001b[39;49mcreate( \u001b[39m# type: ignore\u001b[39;49;00m\n\u001b[1;32m    320\u001b[0m         timeout\u001b[39m=\u001b[39;49mtimeout,\n\u001b[1;32m    321\u001b[0m         access\u001b[39m=\u001b[39;49mpublic_access,\n\u001b[1;32m    322\u001b[0m         container_cpk_scope_info\u001b[39m=\u001b[39;49mcontainer_cpk_scope_info,\n\u001b[1;32m    323\u001b[0m         \u001b[39mcls\u001b[39;49m\u001b[39m=\u001b[39;49mreturn_response_headers,\n\u001b[1;32m    324\u001b[0m         headers\u001b[39m=\u001b[39;49mheaders,\n\u001b[1;32m    325\u001b[0m         \u001b[39m*\u001b[39;49m\u001b[39m*\u001b[39;49mkwargs)\n\u001b[1;32m    326\u001b[0m \u001b[39mexcept\u001b[39;00m HttpResponseError \u001b[39mas\u001b[39;00m error:\n\u001b[1;32m    327\u001b[0m     process_storage_error(error)\n",
      "File \u001b[0;32m~/.local/lib/python3.9/site-packages/azure/core/tracing/decorator.py:78\u001b[0m, in \u001b[0;36mdistributed_trace.<locals>.decorator.<locals>.wrapper_use_tracer\u001b[0;34m(*args, **kwargs)\u001b[0m\n\u001b[1;32m     76\u001b[0m span_impl_type \u001b[39m=\u001b[39m settings\u001b[39m.\u001b[39mtracing_implementation()\n\u001b[1;32m     77\u001b[0m \u001b[39mif\u001b[39;00m span_impl_type \u001b[39mis\u001b[39;00m \u001b[39mNone\u001b[39;00m:\n\u001b[0;32m---> 78\u001b[0m     \u001b[39mreturn\u001b[39;00m func(\u001b[39m*\u001b[39;49margs, \u001b[39m*\u001b[39;49m\u001b[39m*\u001b[39;49mkwargs)\n\u001b[1;32m     80\u001b[0m \u001b[39m# Merge span is parameter is set, but only if no explicit parent are passed\u001b[39;00m\n\u001b[1;32m     81\u001b[0m \u001b[39mif\u001b[39;00m merge_span \u001b[39mand\u001b[39;00m \u001b[39mnot\u001b[39;00m passed_in_parent:\n",
      "File \u001b[0;32m~/.local/lib/python3.9/site-packages/azure/storage/blob/_generated/operations/_container_operations.py:989\u001b[0m, in \u001b[0;36mContainerOperations.create\u001b[0;34m(self, timeout, metadata, access, request_id_parameter, container_cpk_scope_info, **kwargs)\u001b[0m\n\u001b[1;32m    986\u001b[0m response \u001b[39m=\u001b[39m pipeline_response\u001b[39m.\u001b[39mhttp_response\n\u001b[1;32m    988\u001b[0m \u001b[39mif\u001b[39;00m response\u001b[39m.\u001b[39mstatus_code \u001b[39mnot\u001b[39;00m \u001b[39min\u001b[39;00m [\u001b[39m201\u001b[39m]:\n\u001b[0;32m--> 989\u001b[0m     map_error(status_code\u001b[39m=\u001b[39;49mresponse\u001b[39m.\u001b[39;49mstatus_code, response\u001b[39m=\u001b[39;49mresponse, error_map\u001b[39m=\u001b[39;49merror_map)\n\u001b[1;32m    990\u001b[0m     error \u001b[39m=\u001b[39m \u001b[39mself\u001b[39m\u001b[39m.\u001b[39m_deserialize\u001b[39m.\u001b[39mfailsafe_deserialize(_models\u001b[39m.\u001b[39mStorageError, pipeline_response)\n\u001b[1;32m    991\u001b[0m     \u001b[39mraise\u001b[39;00m HttpResponseError(response\u001b[39m=\u001b[39mresponse, model\u001b[39m=\u001b[39merror)\n",
      "File \u001b[0;32m~/.local/lib/python3.9/site-packages/azure/core/exceptions.py:164\u001b[0m, in \u001b[0;36mmap_error\u001b[0;34m(status_code, response, error_map)\u001b[0m\n\u001b[1;32m    162\u001b[0m     \u001b[39mreturn\u001b[39;00m\n\u001b[1;32m    163\u001b[0m error \u001b[39m=\u001b[39m error_type(response\u001b[39m=\u001b[39mresponse)\n\u001b[0;32m--> 164\u001b[0m \u001b[39mraise\u001b[39;00m error\n",
      "\u001b[0;31mResourceNotFoundError\u001b[0m: The specified resource does not exist.\nRequestId:fe2b1511-6ffb-40ce-b9e1-d7cd54f289d5\nTime:2024-02-06T12:45:56.084Z\nErrorCode:ResourceNotFound\nContent: <?xml version=\"1.0\" encoding=\"UTF-8\" standalone=\"yes\"?>\n<Error>\n  <Code>ResourceNotFound</Code>\n  <Message>The specified resource does not exist.\nRequestId:fe2b1511-6ffb-40ce-b9e1-d7cd54f289d5\nTime:2024-02-06T12:45:56.084Z</Message>\n</Error>"
     ]
    }
   ],
   "source": [
    "aa.create_container(\"test22\")"
   ]
  },
  {
   "cell_type": "code",
   "execution_count": null,
   "metadata": {},
   "outputs": [],
   "source": [
    "logging.warning()"
   ]
  },
  {
   "cell_type": "code",
   "execution_count": 3,
   "metadata": {},
   "outputs": [],
   "source": [
    "aa.create_container('aaa',public_access=)"
   ]
  },
  {
   "cell_type": "code",
   "execution_count": null,
   "metadata": {},
   "outputs": [],
   "source": [
    "import pandas as pd\n",
    "\n",
    "# Define data\n",
    "data = {\n",
    "    'Name': ['John', 'Anna', 'Peter'],\n",
    "    'Age': [28, 24, 35],\n",
    "    'City': ['New York', 'Paris', 'Berlin']\n",
    "}\n",
    "\n",
    "df = pd.DataFrame(data)\n",
    "\n",
    "\n",
    "aa.save_dataframe_as_csv(df,\"test12\",\"fol2/bbbb\",\"test1.csv\",engine='pandas')"
   ]
  },
  {
   "cell_type": "code",
   "execution_count": null,
   "metadata": {},
   "outputs": [],
   "source": [
    "df1 = aa.read_csv_folder(\"test12\",\"fol2\",addStrTechCol=True,isFirstRowAsHeader=True)\n",
    "print(df1)"
   ]
  }
 ],
 "metadata": {
  "kernelspec": {
   "display_name": "Python 3",
   "language": "python",
   "name": "python3"
  },
  "language_info": {
   "codemirror_mode": {
    "name": "ipython",
    "version": 3
   },
   "file_extension": ".py",
   "mimetype": "text/x-python",
   "name": "python",
   "nbconvert_exporter": "python",
   "pygments_lexer": "ipython3",
   "version": "3.9.18"
  }
 },
 "nbformat": 4,
 "nbformat_minor": 2
}
