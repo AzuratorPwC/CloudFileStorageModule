{
 "cells": [
  {
   "cell_type": "code",
   "execution_count": 11,
   "metadata": {},
   "outputs": [],
   "source": [
    "from src.cloud_storage_pwc import create_cloudstorage_reference"
   ]
  },
  {
   "cell_type": "code",
   "execution_count": 8,
   "metadata": {},
   "outputs": [],
   "source": [
    "aa=create_cloudstorage_reference(\"http://127.0.0.1:10000/devstoreaccount1\",\"Eby8vdM02xNOcqFlqUwJPLlmEtlCDXJ1OUzFT50uSRZ6IFsuFq2UVErCz4I6tq/K1SZFPTOtr/KBHBeksoGMGw==\")"
   ]
  },
  {
   "cell_type": "markdown",
   "metadata": {},
   "source": [
    "### DEMO"
   ]
  },
  {
   "cell_type": "code",
   "execution_count": 12,
   "metadata": {},
   "outputs": [],
   "source": [
    "aa.create_container(\"test14\")"
   ]
  },
  {
   "cell_type": "code",
   "execution_count": 20,
   "metadata": {},
   "outputs": [],
   "source": [
    "import pandas as pd\n",
    "\n",
    "# Define data\n",
    "data = {\n",
    "    'Name': ['John', 'Anna', 'Peter'],\n",
    "    'Age': [28, 24, 35],\n",
    "    'City': ['New York', 'Paris', 'Berlin']\n",
    "}\n",
    "\n",
    "df = pd.DataFrame(data)\n",
    "\n",
    "\n",
    "aa.save_dataframe_as_csv(df,\"test12\",\"fol2/bbbb\",\"test1.csv\",engine='pandas')"
   ]
  },
  {
   "cell_type": "code",
   "execution_count": 22,
   "metadata": {},
   "outputs": [
    {
     "name": "stdout",
     "output_type": "stream",
     "text": [
      "    Name Age      City techContainer techFolderPath techSourceFile\n",
      "0   John  28  New York        test12      fol2/bbbb      test1.csv\n",
      "1   Anna  24     Paris        test12      fol2/bbbb      test1.csv\n",
      "2  Peter  35    Berlin        test12      fol2/bbbb      test1.csv\n",
      "3   John  28  New York        test12           fol2       test.csv\n",
      "4   Anna  24     Paris        test12           fol2       test.csv\n",
      "5  Peter  35    Berlin        test12           fol2       test.csv\n"
     ]
    }
   ],
   "source": [
    "df1 = aa.read_csv_folder(\"test12\",\"fol2\",addStrTechCol=True,isFirstRowAsHeader=True)\n",
    "print(df1)"
   ]
  }
 ],
 "metadata": {
  "kernelspec": {
   "display_name": "Python 3",
   "language": "python",
   "name": "python3"
  },
  "language_info": {
   "codemirror_mode": {
    "name": "ipython",
    "version": 3
   },
   "file_extension": ".py",
   "mimetype": "text/x-python",
   "name": "python",
   "nbconvert_exporter": "python",
   "pygments_lexer": "ipython3",
   "version": "3.9.18"
  }
 },
 "nbformat": 4,
 "nbformat_minor": 2
}
